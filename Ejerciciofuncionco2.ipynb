{
 "cells": [
  {
   "cell_type": "code",
   "execution_count": 1,
   "metadata": {},
   "outputs": [],
   "source": [
    "import pandas as pd\n",
    "import numpy as np \n",
    "import seaborn as sns\n",
    "import matplotlib.pyplot as plt \n",
    "from sklearn.preprocessing import MinMaxScaler\n",
    "from sklearn.cluster import DBSCAN \n",
    "from sklearn import linear_model\n",
    "from sklearn.model_selection import train_test_split\n",
    "from sklearn.ensemble import RandomForestClassifier\n",
    "from sklearn.model_selection import StratifiedKFold\n",
    "from sklearn.metrics import confusion_matrix"
   ]
  },
  {
   "cell_type": "code",
   "execution_count": null,
   "metadata": {},
   "outputs": [],
   "source": [
    "df = pd.read_csv('dfconclaseyco2.csv') #this file already contains previously made clustering to a dataset "
   ]
  },
  {
   "cell_type": "code",
   "execution_count": null,
   "metadata": {},
   "outputs": [],
   "source": [
    "df"
   ]
  },
  {
   "cell_type": "code",
   "execution_count": null,
   "metadata": {},
   "outputs": [],
   "source": [
    "#create regressions for 2 classes "
   ]
  },
  {
   "cell_type": "code",
   "execution_count": null,
   "metadata": {},
   "outputs": [],
   "source": [
    "from sklearn import linear_model\n",
    "from sklearn.model_selection import train_test_split\n",
    "clust1 = df[df[\"clase\"]==0]\n",
    "X = clust1[[\"FUELCONSUMPTION_HWY\"]].values\n",
    "y = clust1[\"CO2EMISSIONS\"].values\n",
    "X_train, X_test, y_train, y_test = train_test_split(X, y, test_size=0.30)\n",
    "regresion_lineal0 = linear_model.LinearRegression()\n",
    "regresion_lineal0.fit(X_train, y_train)\n",
    "\n",
    "clust1 = df[df[\"clase\"]==1]\n",
    "X = clust1[[\"FUELCONSUMPTION_HWY\"]].values\n",
    "y = clust1[\"CO2EMISSIONS\"].values\n",
    "X_train, X_test, y_train, y_test = train_test_split(X, y, test_size=0.30)\n",
    "regresion_lineal1 = linear_model.LinearRegression()\n",
    "regresion_lineal1.fit(X_train, y_train)"
   ]
  },
  {
   "cell_type": "code",
   "execution_count": null,
   "metadata": {},
   "outputs": [],
   "source": [
    "#use clasification in order to determine which regression to use "
   ]
  },
  {
   "cell_type": "code",
   "execution_count": null,
   "metadata": {},
   "outputs": [],
   "source": [
    "df1 = df.drop([\"CO2EMISSIONS\",\"clase\"],axis=1)"
   ]
  },
  {
   "cell_type": "code",
   "execution_count": null,
   "metadata": {},
   "outputs": [],
   "source": [
    "patron = madmax.inverse_transform(np.array([X_test[150]]))"
   ]
  },
  {
   "cell_type": "code",
   "execution_count": null,
   "metadata": {},
   "outputs": [],
   "source": [
    "patron"
   ]
  },
  {
   "cell_type": "code",
   "execution_count": null,
   "metadata": {},
   "outputs": [],
   "source": [
    "patron_transformado = madmax.transform(patron)"
   ]
  },
  {
   "cell_type": "code",
   "execution_count": null,
   "metadata": {},
   "outputs": [],
   "source": [
    "\n",
    "X1 = df1.values\n",
    "y1 = df[\"clase\"].values\n",
    "madmax = MinMaxScaler()\n",
    "madmax.fit(X1)\n",
    "X1  = madmax.transform(X1)\n",
    "X_train, X_test, y_train, y_test =  train_test_split(X1,y1, test_size=0.4)\n",
    "clf = RandomForestClassifier()\n",
    "clf.fit(X_train, y_train)\n",
    "patron_transformado = madmax.transform(patron)\n",
    "yhat = clf.predict(np.array(patron_transformado))\n",
    "if yhat[0] == 0:\n",
    "    pred = regresion_lineal0.predict(patron[0][-3].reshape(-1,1))\n",
    "else:\n",
    "    pred = regresion_lineal1.predict(patron[0][-3].reshape(-1,1))\n",
    "return pred \n",
    "    "
   ]
  },
  {
   "cell_type": "code",
   "execution_count": null,
   "metadata": {},
   "outputs": [],
   "source": [
    "yhat = clf.predict(np.array([X_test[150]]))"
   ]
  },
  {
   "cell_type": "code",
   "execution_count": null,
   "metadata": {},
   "outputs": [],
   "source": [
    "yhat = clf.predict(np.array(patron_transformado))"
   ]
  },
  {
   "cell_type": "code",
   "execution_count": null,
   "metadata": {},
   "outputs": [],
   "source": [
    "yhat[0]"
   ]
  },
  {
   "cell_type": "code",
   "execution_count": null,
   "metadata": {},
   "outputs": [],
   "source": [
    "if yhat[0] == 0:\n",
    "    pred = regresion_lineal0.predict(patron[0][-3].reshape(-1,1))\n",
    "else:\n",
    "    pred = regresion_lineal1.predict(patron[0][-3].reshape(-1,1))\n"
   ]
  },
  {
   "cell_type": "code",
   "execution_count": 2,
   "metadata": {},
   "outputs": [],
   "source": [
    "patron = np.array([[18. ,  6. ,  1.6,  1. ,  1. ,  2. , 11.1,  8.2,  9.8, 29. ]])"
   ]
  },
  {
   "cell_type": "code",
   "execution_count": null,
   "metadata": {},
   "outputs": [],
   "source": [
    "def prediccion(patron):\n",
    "    \n",
    "    df = pd.read_csv('dfconclaseyco2.csv')\n",
    "    from sklearn import linear_model\n",
    "    from sklearn.model_selection import train_test_split\n",
    "    clust0 = df[df[\"clase\"]==0]\n",
    "    X = clust0[[\"FUELCONSUMPTION_HWY\"]].values\n",
    "    y = clust0[\"CO2EMISSIONS\"].values\n",
    "    X_train, X_test, y_train, y_test = train_test_split(X, y, test_size=0.30)\n",
    "    regresion_lineal0 = linear_model.LinearRegression()\n",
    "    regresion_lineal0.fit(X_train, y_train)\n",
    "\n",
    "    clust1 = df[df[\"clase\"]==1]\n",
    "    X = clust1[[\"FUELCONSUMPTION_HWY\"]].values\n",
    "    y = clust1[\"CO2EMISSIONS\"].values\n",
    "    X_train, X_test, y_train, y_test = train_test_split(X, y, test_size=0.30)\n",
    "    regresion_lineal1 = linear_model.LinearRegression()\n",
    "    regresion_lineal1.fit(X_train, y_train)\n",
    "\n",
    "    from sklearn.ensemble import RandomForestClassifier\n",
    "    \n",
    "    df1 = df.drop([\"CO2EMISSIONS\",\"clase\"],axis=1)\n",
    "    \n",
    "    X1 = df1.values\n",
    "    y1 = df[\"clase\"].values\n",
    "    madmax = MinMaxScaler()\n",
    "    madmax.fit(X1)\n",
    "    X1  = madmax.transform(X1)\n",
    "    X_train, X_test, y_train, y_test =  train_test_split(X1,y1, test_size=0.4)\n",
    "    clf = RandomForestClassifier()\n",
    "    clf.fit(X_train, y_train)\n",
    "    patron_transformado = madmax.transform(patron)\n",
    "    yhat = clf.predict(np.array(patron_transformado))\n",
    "    if yhat[0] == 0:\n",
    "        pred = regresion_lineal0.predict(patron[0][-3].reshape(-1,1))\n",
    "    else:\n",
    "        pred = regresion_lineal1.predict(patron[0][-3].reshape(-1,1))\n",
    "    return pred "
   ]
  },
  {
   "cell_type": "code",
   "execution_count": null,
   "metadata": {},
   "outputs": [],
   "source": [
    "df = pd.read_csv('dfconclaseyco2.csv')\n",
    "from sklearn import linear_model\n",
    "from sklearn.model_selection import train_test_split\n",
    "clust0 = df[df[\"clase\"]==0]\n",
    "X = clust0[[\"FUELCONSUMPTION_HWY\"]].values\n",
    "y = clust0[\"CO2EMISSIONS\"].values\n",
    "X_train, X_test, y_train, y_test = train_test_split(X, y, test_size=0.30)\n",
    "regresion_lineal0 = linear_model.LinearRegression()\n",
    "regresion_lineal0.fit(X_train, y_train)\n",
    "\n",
    "clust1 = df[df[\"clase\"]==1]\n",
    "X = clust1[[\"FUELCONSUMPTION_HWY\"]].values\n",
    "y = clust1[\"CO2EMISSIONS\"].values\n",
    "X_train, X_test, y_train, y_test = train_test_split(X, y, test_size=0.30)\n",
    "regresion_lineal1 = linear_model.LinearRegression()\n",
    "regresion_lineal1.fit(X_train, y_train)\n",
    "\n",
    "from sklearn.ensemble import RandomForestClassifier\n",
    "\n",
    "df1 = df.drop([\"CO2EMISSIONS\",\"clase\"],axis=1)\n",
    "\n",
    "X1 = df1.values\n",
    "y1 = df[\"clase\"].values\n",
    "madmax = MinMaxScaler()\n",
    "madmax.fit(X1)\n",
    "X1  = madmax.transform(X1)\n",
    "X_train, X_test, y_train, y_test =  train_test_split(X1,y1, test_size=0.4)\n",
    "clf = RandomForestClassifier()\n",
    "clf.fit(X_train, y_train)\n",
    "patron_transformado = madmax.transform(patron)\n",
    "yhat = clf.predict(np.array(patron_transformado))\n",
    "if yhat[0] == 0:\n",
    "    pred = regresion_lineal0.predict(patron[0][-3].reshape(-1,1))\n",
    "else:\n",
    "    pred = regresion_lineal1.predict(patron[0][-3].reshape(-1,1))"
   ]
  },
  {
   "cell_type": "code",
   "execution_count": null,
   "metadata": {},
   "outputs": [],
   "source": [
    "prediccion(patron)"
   ]
  },
  {
   "cell_type": "code",
   "execution_count": null,
   "metadata": {},
   "outputs": [],
   "source": []
  },
  {
   "cell_type": "code",
   "execution_count": 5,
   "metadata": {},
   "outputs": [],
   "source": [
    "import pickle\n",
    "\n",
    "#to save to objects"
   ]
  },
  {
   "cell_type": "code",
   "execution_count": null,
   "metadata": {},
   "outputs": [],
   "source": [
    "with open('clasifier.pkl','wb') as f:\n",
    "    pickle.dump(clf,f)"
   ]
  },
  {
   "cell_type": "code",
   "execution_count": null,
   "metadata": {},
   "outputs": [],
   "source": [
    "with open('reg0.pkl','wb') as f:\n",
    "    pickle.dump(regresion_lineal0,f)"
   ]
  },
  {
   "cell_type": "code",
   "execution_count": null,
   "metadata": {},
   "outputs": [],
   "source": [
    "with open('reg1.pkl','wb') as f:\n",
    "    pickle.dump(regresion_lineal1,f)"
   ]
  },
  {
   "cell_type": "code",
   "execution_count": null,
   "metadata": {},
   "outputs": [],
   "source": [
    "with open('minmax.pkl','wb') as f:\n",
    "    pickle.dump(madmax,f)"
   ]
  },
  {
   "cell_type": "code",
   "execution_count": null,
   "metadata": {},
   "outputs": [],
   "source": [
    "with open('clasifier.pkl', 'rb') as f:\n",
    "    clf2 = pickle.load(f)\n"
   ]
  },
  {
   "cell_type": "code",
   "execution_count": null,
   "metadata": {},
   "outputs": [],
   "source": [
    "clf2"
   ]
  },
  {
   "cell_type": "code",
   "execution_count": 6,
   "metadata": {},
   "outputs": [],
   "source": [
    "#with models saved \n",
    "\n",
    "\n",
    "def prediccion2(patron):\n",
    "        \n",
    "    with open('minmax.pkl', 'rb') as f:\n",
    "        madmax2 = pickle.load(f)\n",
    "    \n",
    "    patron_transformado = madmax2.transform(patron)\n",
    "    \n",
    "    with open('clasifier.pkl', 'rb') as f:\n",
    "        clf2 = pickle.load(f)\n",
    "    \n",
    "    yhat = clf2.predict(np.array(patron_transformado))\n",
    "    \n",
    "    with open('reg0.pkl', 'rb') as f:\n",
    "        reg0 = pickle.load(f)\n",
    "        \n",
    "    with open('reg1.pkl', 'rb') as f:\n",
    "        reg1 = pickle.load(f)\n",
    "    \n",
    "    if yhat[0] == 0:\n",
    "        pred = reg0.predict(patron[0][-3].reshape(-1,1))\n",
    "    else:\n",
    "        pred = reg1.predict(patron[0][-3].reshape(-1,1))\n",
    "    return pred "
   ]
  },
  {
   "cell_type": "code",
   "execution_count": 7,
   "metadata": {},
   "outputs": [
    {
     "data": {
      "text/plain": [
       "array([231.25923195])"
      ]
     },
     "execution_count": 7,
     "metadata": {},
     "output_type": "execute_result"
    }
   ],
   "source": [
    "prediccion2(patron)"
   ]
  },
  {
   "cell_type": "code",
   "execution_count": null,
   "metadata": {},
   "outputs": [],
   "source": []
  }
 ],
 "metadata": {
  "kernelspec": {
   "display_name": "Python 3",
   "language": "python",
   "name": "python3"
  },
  "language_info": {
   "codemirror_mode": {
    "name": "ipython",
    "version": 3
   },
   "file_extension": ".py",
   "mimetype": "text/x-python",
   "name": "python",
   "nbconvert_exporter": "python",
   "pygments_lexer": "ipython3",
   "version": "3.8.5"
  }
 },
 "nbformat": 4,
 "nbformat_minor": 4
}
